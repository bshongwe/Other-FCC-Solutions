{
  "cells": [
    {
      "cell_type": "markdown",
      "metadata": {
        "id": "view-in-github",
        "colab_type": "text"
      },
      "source": [
        "<a href=\"https://colab.research.google.com/github/bshongwe/Other-FCC-Solutions/blob/master/fcc_book_recommendation_knn.ipynb\" target=\"_parent\"><img src=\"https://colab.research.google.com/assets/colab-badge.svg\" alt=\"Open In Colab\"/></a>"
      ]
    },
    {
      "cell_type": "code",
      "execution_count": 1,
      "metadata": {
        "id": "Y1onB6kUvo4Z"
      },
      "outputs": [],
      "source": [
        "# import libraries (you may add additional imports but you may not have to)\n",
        "import numpy as np\n",
        "import pandas as pd\n",
        "from scipy.sparse import csr_matrix\n",
        "from sklearn.neighbors import NearestNeighbors\n",
        "import matplotlib.pyplot as plt"
      ]
    },
    {
      "cell_type": "code",
      "execution_count": 2,
      "metadata": {
        "id": "iAQGqqO_vo4d",
        "outputId": "eeda8aaa-c7ee-4284-fd18-c94ed06374d2",
        "colab": {
          "base_uri": "https://localhost:8080/"
        }
      },
      "outputs": [
        {
          "output_type": "stream",
          "name": "stdout",
          "text": [
            "--2025-06-11 08:04:31--  https://cdn.freecodecamp.org/project-data/books/book-crossings.zip\n",
            "Resolving cdn.freecodecamp.org (cdn.freecodecamp.org)... 104.26.3.33, 104.26.2.33, 172.67.70.149, ...\n",
            "Connecting to cdn.freecodecamp.org (cdn.freecodecamp.org)|104.26.3.33|:443... connected.\n",
            "HTTP request sent, awaiting response... 200 OK\n",
            "Length: 26085508 (25M) [application/zip]\n",
            "Saving to: ‘book-crossings.zip’\n",
            "\n",
            "book-crossings.zip  100%[===================>]  24.88M  96.0MB/s    in 0.3s    \n",
            "\n",
            "2025-06-11 08:04:31 (96.0 MB/s) - ‘book-crossings.zip’ saved [26085508/26085508]\n",
            "\n",
            "Archive:  book-crossings.zip\n",
            "  inflating: BX-Book-Ratings.csv     \n",
            "  inflating: BX-Books.csv            \n",
            "  inflating: BX-Users.csv            \n"
          ]
        }
      ],
      "source": [
        "# get data files\n",
        "!wget https://cdn.freecodecamp.org/project-data/books/book-crossings.zip\n",
        "\n",
        "!unzip book-crossings.zip\n",
        "\n",
        "books_filename = 'BX-Books.csv'\n",
        "ratings_filename = 'BX-Book-Ratings.csv'"
      ]
    },
    {
      "cell_type": "code",
      "execution_count": 3,
      "metadata": {
        "id": "NClILWOiEd6Q",
        "outputId": "236105a9-7764-4f43-89f8-210bf4c84425",
        "colab": {
          "base_uri": "https://localhost:8080/"
        }
      },
      "outputs": [
        {
          "output_type": "stream",
          "name": "stdout",
          "text": [
            "Books dataset shape: (271379, 3)\n",
            "Ratings dataset shape: (1149780, 3)\n",
            "\n",
            "First few books:\n",
            "         isbn                                              title  \\\n",
            "0  0195153448                                Classical Mythology   \n",
            "1  0002005018                                       Clara Callan   \n",
            "2  0060973129                               Decision in Normandy   \n",
            "3  0374157065  Flu: The Story of the Great Influenza Pandemic...   \n",
            "4  0393045218                             The Mummies of Urumchi   \n",
            "\n",
            "                 author  \n",
            "0    Mark P. O. Morford  \n",
            "1  Richard Bruce Wright  \n",
            "2          Carlo D'Este  \n",
            "3      Gina Bari Kolata  \n",
            "4       E. J. W. Barber  \n",
            "\n",
            "First few ratings:\n",
            "     user        isbn  rating\n",
            "0  276725  034545104X     0.0\n",
            "1  276726  0155061224     5.0\n",
            "2  276727  0446520802     0.0\n",
            "3  276729  052165615X     3.0\n",
            "4  276729  0521795028     6.0\n"
          ]
        }
      ],
      "source": [
        "# import csv data into dataframes\n",
        "df_books = pd.read_csv(\n",
        "    books_filename,\n",
        "    encoding = \"ISO-8859-1\",\n",
        "    sep=\";\",\n",
        "    header=0,\n",
        "    names=['isbn', 'title', 'author'],\n",
        "    usecols=['isbn', 'title', 'author'],\n",
        "    dtype={'isbn': 'str', 'title': 'str', 'author': 'str'})\n",
        "\n",
        "# Complete the ratings dataframe loading (if not already done)\n",
        "df_ratings = pd.read_csv(\n",
        "    ratings_filename,\n",
        "    encoding = \"ISO-8859-1\",\n",
        "    sep=\";\",\n",
        "    header=0,\n",
        "    names=['user', 'isbn', 'rating'],\n",
        "    usecols=['user', 'isbn', 'rating'],\n",
        "    dtype={'user': 'int32', 'isbn': 'str', 'rating': 'float32'})\n",
        "\n",
        "# Explore the data\n",
        "print(\"Books dataset shape:\", df_books.shape)\n",
        "print(\"Ratings dataset shape:\", df_ratings.shape)\n",
        "print(\"\\nFirst few books:\")\n",
        "print(df_books.head())\n",
        "print(\"\\nFirst few ratings:\")\n",
        "print(df_ratings.head())"
      ]
    },
    {
      "cell_type": "code",
      "execution_count": 4,
      "metadata": {
        "id": "xAcXjkCFCh0A",
        "outputId": "c38dbdeb-8b4b-4328-9fe1-0c4bbd052928",
        "colab": {
          "base_uri": "https://localhost:8080/"
        }
      },
      "outputs": [
        {
          "output_type": "stream",
          "name": "stdout",
          "text": [
            "Original ratings shape: (1149780, 3)\n",
            "After filtering users with <200 ratings: (527556, 3)\n",
            "After filtering books with <100 ratings: (13793, 3)\n"
          ]
        }
      ],
      "source": [
        "# add your code here - consider creating a new cell for each section of code\n",
        "# Data cleaning and filtering\n",
        "print(\"Original ratings shape:\", df_ratings.shape)\n",
        "\n",
        "# Remove users with less than 200 ratings\n",
        "user_rating_counts = df_ratings['user'].value_counts()\n",
        "users_200_plus = user_rating_counts[user_rating_counts >= 200].index\n",
        "df_ratings_filtered = df_ratings[df_ratings['user'].isin(users_200_plus)]\n",
        "\n",
        "print(\"After filtering users with <200 ratings:\", df_ratings_filtered.shape)\n",
        "\n",
        "# Remove books with less than 100 ratings\n",
        "book_rating_counts = df_ratings_filtered['isbn'].value_counts()\n",
        "books_100_plus = book_rating_counts[book_rating_counts >= 100].index\n",
        "df_ratings_filtered = df_ratings_filtered[df_ratings_filtered['isbn'].isin(books_100_plus)]\n",
        "\n",
        "print(\"After filtering books with <100 ratings:\", df_ratings_filtered.shape)"
      ]
    },
    {
      "cell_type": "code",
      "source": [
        "# Merge the datasets and create the book-user matrix\n",
        "df_book_ratings = df_ratings_filtered.merge(df_books, on='isbn')\n",
        "\n",
        "# Create pivot table: books as rows, users as columns, ratings as values\n",
        "book_user_matrix = df_book_ratings.pivot_table(\n",
        "    index='title',\n",
        "    columns='user',\n",
        "    values='rating'\n",
        ").fillna(0)\n",
        "\n",
        "print(\"Book-user matrix shape:\", book_user_matrix.shape)\n",
        "\n",
        "# Convert to sparse matrix for memory efficiency\n",
        "book_user_sparse = csr_matrix(book_user_matrix.values)\n",
        "\n",
        "# Initialize and fit the KNN model\n",
        "model_knn = NearestNeighbors(\n",
        "    metric='cosine',\n",
        "    algorithm='brute',\n",
        "    n_neighbors=6,  # 6 because we'll exclude the input book itself\n",
        "    n_jobs=-1\n",
        ")\n",
        "model_knn.fit(book_user_sparse)\n",
        "\n",
        "print(\"KNN model trained successfully!\")"
      ],
      "metadata": {
        "id": "kCPsoQVcA8xa",
        "outputId": "a484a24f-03ce-4064-fe6d-f1ce6525eaea",
        "colab": {
          "base_uri": "https://localhost:8080/"
        }
      },
      "execution_count": 5,
      "outputs": [
        {
          "output_type": "stream",
          "name": "stdout",
          "text": [
            "Book-user matrix shape: (99, 857)\n",
            "KNN model trained successfully!\n"
          ]
        }
      ]
    },
    {
      "cell_type": "code",
      "execution_count": 6,
      "metadata": {
        "id": "f5ZUd-L1SQz7"
      },
      "outputs": [],
      "source": [
        "# function to return recommended books - this will be tested\n",
        "def get_recommends(book=\"\"):\n",
        "    try:\n",
        "        # Get the index of the book in our matrix\n",
        "        book_idx = book_user_matrix.index.get_loc(book)\n",
        "\n",
        "        # Get the book's rating vector\n",
        "        book_vector = book_user_matrix.iloc[book_idx].values.reshape(1, -1)\n",
        "\n",
        "        # Find nearest neighbors\n",
        "        distances, indices = model_knn.kneighbors(book_vector, n_neighbors=6)\n",
        "\n",
        "        # Build recommendations list (skip index 0 as it's the book itself)\n",
        "        recommendations = []\n",
        "        for i in range(1, 6):  # Get 5 recommendations\n",
        "            recommended_book = book_user_matrix.index[indices.flatten()[i]]\n",
        "            distance = distances.flatten()[i]\n",
        "            recommendations.append([recommended_book, distance])\n",
        "\n",
        "        recommended_books = [book, recommendations]\n",
        "        return recommended_books\n",
        "\n",
        "    except KeyError:\n",
        "        print(f\"Book '{book}' not found in filtered dataset\")\n",
        "        return [book, []]\n",
        "    except Exception as e:\n",
        "        print(f\"An error occurred: {e}\")\n",
        "        return [book, []]"
      ]
    },
    {
      "cell_type": "code",
      "execution_count": 7,
      "metadata": {
        "id": "jd2SLCh8oxMh",
        "outputId": "45bf3686-e21d-4410-90e5-3b08446a9fa5",
        "colab": {
          "base_uri": "https://localhost:8080/"
        }
      },
      "outputs": [
        {
          "output_type": "stream",
          "name": "stdout",
          "text": [
            "[\"Where the Heart Is (Oprah's Book Club (Paperback))\", [['The Lovely Bones: A Novel', np.float32(0.7234864)], [\"The Pilot's Wife : A Novel\", np.float32(0.81926787)], ['The Joy Luck Club', np.float32(0.81986046)], ['The Notebook', np.float32(0.82366824)], ['Bel Canto: A Novel', np.float32(0.8247875)]]]\n",
            "You haven't passed yet. Keep trying!\n"
          ]
        }
      ],
      "source": [
        "books = get_recommends(\"Where the Heart Is (Oprah's Book Club (Paperback))\")\n",
        "print(books)\n",
        "\n",
        "def test_book_recommendation():\n",
        "  test_pass = True\n",
        "  recommends = get_recommends(\"Where the Heart Is (Oprah's Book Club (Paperback))\")\n",
        "  if recommends[0] != \"Where the Heart Is (Oprah's Book Club (Paperback))\":\n",
        "    test_pass = False\n",
        "  recommended_books = [\"I'll Be Seeing You\", 'The Weight of Water', 'The Surgeon', 'I Know This Much Is True']\n",
        "  recommended_books_dist = [0.8, 0.77, 0.77, 0.77]\n",
        "  for i in range(2):\n",
        "    if recommends[1][i][0] not in recommended_books:\n",
        "      test_pass = False\n",
        "    if abs(recommends[1][i][1] - recommended_books_dist[i]) >= 0.05:\n",
        "      test_pass = False\n",
        "  if test_pass:\n",
        "    print(\"You passed the challenge! 🎉🎉🎉🎉🎉\")\n",
        "  else:\n",
        "    print(\"You haven't passed yet. Keep trying!\")\n",
        "\n",
        "test_book_recommendation()"
      ]
    }
  ],
  "metadata": {
    "colab": {
      "name": "fcc_book_recommendation_knn.ipynb",
      "provenance": [],
      "include_colab_link": true
    },
    "kernelspec": {
      "display_name": "Python 3",
      "language": "python",
      "name": "python3"
    },
    "language_info": {
      "codemirror_mode": {
        "name": "ipython",
        "version": 3
      },
      "file_extension": ".py",
      "mimetype": "text/x-python",
      "name": "python",
      "nbconvert_exporter": "python",
      "pygments_lexer": "ipython3",
      "version": "3.6.5"
    }
  },
  "nbformat": 4,
  "nbformat_minor": 0
}